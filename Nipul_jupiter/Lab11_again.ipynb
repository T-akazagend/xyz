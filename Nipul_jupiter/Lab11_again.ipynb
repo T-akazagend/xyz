{
 "cells": [
  {
   "cell_type": "code",
   "execution_count": 1,
   "id": "16203318-c3f1-4165-8402-e62c3f0212ba",
   "metadata": {},
   "outputs": [],
   "source": [
    "import numpy as np\n",
    "import pandas as pd\n",
    "import matplotlib.pyplot as plt"
   ]
  },
  {
   "cell_type": "code",
   "execution_count": 3,
   "id": "e7927d48-de7a-41b9-b12a-c4237fad55c3",
   "metadata": {},
   "outputs": [],
   "source": [
    "dataset = pd.read_csv('Bank1.csv')"
   ]
  },
  {
   "cell_type": "code",
   "execution_count": 5,
   "id": "97385e0b-2082-4c1c-a4f6-7f79b1bf5a4b",
   "metadata": {},
   "outputs": [
    {
     "data": {
      "text/html": [
       "<div>\n",
       "<style scoped>\n",
       "    .dataframe tbody tr th:only-of-type {\n",
       "        vertical-align: middle;\n",
       "    }\n",
       "\n",
       "    .dataframe tbody tr th {\n",
       "        vertical-align: top;\n",
       "    }\n",
       "\n",
       "    .dataframe thead th {\n",
       "        text-align: right;\n",
       "    }\n",
       "</style>\n",
       "<table border=\"1\" class=\"dataframe\">\n",
       "  <thead>\n",
       "    <tr style=\"text-align: right;\">\n",
       "      <th></th>\n",
       "      <th>Age</th>\n",
       "      <th>Sex</th>\n",
       "      <th>Region</th>\n",
       "      <th>Married</th>\n",
       "      <th>Car</th>\n",
       "      <th>Savingaccount</th>\n",
       "      <th>Mortageg</th>\n",
       "      <th>PEP</th>\n",
       "    </tr>\n",
       "  </thead>\n",
       "  <tbody>\n",
       "    <tr>\n",
       "      <th>0</th>\n",
       "      <td>48</td>\n",
       "      <td>2</td>\n",
       "      <td>3</td>\n",
       "      <td>2</td>\n",
       "      <td>1</td>\n",
       "      <td>2</td>\n",
       "      <td>2</td>\n",
       "      <td>1</td>\n",
       "    </tr>\n",
       "    <tr>\n",
       "      <th>1</th>\n",
       "      <td>40</td>\n",
       "      <td>1</td>\n",
       "      <td>1</td>\n",
       "      <td>1</td>\n",
       "      <td>1</td>\n",
       "      <td>1</td>\n",
       "      <td>1</td>\n",
       "      <td>2</td>\n",
       "    </tr>\n",
       "    <tr>\n",
       "      <th>2</th>\n",
       "      <td>51</td>\n",
       "      <td>2</td>\n",
       "      <td>3</td>\n",
       "      <td>1</td>\n",
       "      <td>2</td>\n",
       "      <td>1</td>\n",
       "      <td>2</td>\n",
       "      <td>2</td>\n",
       "    </tr>\n",
       "    <tr>\n",
       "      <th>3</th>\n",
       "      <td>23</td>\n",
       "      <td>2</td>\n",
       "      <td>1</td>\n",
       "      <td>1</td>\n",
       "      <td>1</td>\n",
       "      <td>2</td>\n",
       "      <td>2</td>\n",
       "      <td>2</td>\n",
       "    </tr>\n",
       "    <tr>\n",
       "      <th>4</th>\n",
       "      <td>57</td>\n",
       "      <td>2</td>\n",
       "      <td>2</td>\n",
       "      <td>1</td>\n",
       "      <td>2</td>\n",
       "      <td>2</td>\n",
       "      <td>2</td>\n",
       "      <td>2</td>\n",
       "    </tr>\n",
       "  </tbody>\n",
       "</table>\n",
       "</div>"
      ],
      "text/plain": [
       "   Age  Sex  Region  Married  Car  Savingaccount  Mortageg  PEP\n",
       "0   48    2       3        2    1              2         2    1\n",
       "1   40    1       1        1    1              1         1    2\n",
       "2   51    2       3        1    2              1         2    2\n",
       "3   23    2       1        1    1              2         2    2\n",
       "4   57    2       2        1    2              2         2    2"
      ]
     },
     "execution_count": 5,
     "metadata": {},
     "output_type": "execute_result"
    }
   ],
   "source": [
    "dataset.head()"
   ]
  },
  {
   "cell_type": "code",
   "execution_count": 7,
   "id": "eee424c1-006d-4591-8f0f-11748f802a54",
   "metadata": {},
   "outputs": [],
   "source": [
    "X = dataset.iloc[:,0:8].values"
   ]
  },
  {
   "cell_type": "code",
   "execution_count": 9,
   "id": "95ccc35f-d049-4c06-a575-a7e429ffa728",
   "metadata": {},
   "outputs": [
    {
     "data": {
      "text/plain": [
       "array([[48,  2,  3, ...,  2,  2,  1],\n",
       "       [40,  1,  1, ...,  1,  1,  2],\n",
       "       [51,  2,  3, ...,  1,  2,  2],\n",
       "       ...,\n",
       "       [64,  1,  3, ...,  2,  2,  1],\n",
       "       [51,  2,  1, ...,  2,  1,  2],\n",
       "       [46,  2,  1, ...,  1,  2,  1]], dtype=int64)"
      ]
     },
     "execution_count": 9,
     "metadata": {},
     "output_type": "execute_result"
    }
   ],
   "source": [
    "X"
   ]
  },
  {
   "cell_type": "code",
   "execution_count": 15,
   "id": "7f05a688-1d60-4ea3-bab2-367dbb866b65",
   "metadata": {},
   "outputs": [],
   "source": [
    "#Creating the elbow chart\n",
    "\n",
    "from sklearn.cluster import KMeans\n",
    "wcss=[]\n",
    "for i in range(1,10):\n",
    "    kmeans = KMeans(n_clusters=i,init='k-means++')\n",
    "    kmeans.fit(X)\n",
    "    wcss.append(kmeans.inertia_)"
   ]
  },
  {
   "cell_type": "code",
   "execution_count": 17,
   "id": "f196f516-118a-4a84-9097-40af84c245f2",
   "metadata": {},
   "outputs": [
    {
     "data": {
      "text/plain": [
       "[61182.400000000016,\n",
       " 17127.619554046214,\n",
       " 7507.004561807746,\n",
       " 4324.490525836416,\n",
       " 3131.888316298553,\n",
       " 2423.4537163113937,\n",
       " 2381.723812440624,\n",
       " 1493.1443586485311,\n",
       " 1386.8850219778624]"
      ]
     },
     "execution_count": 17,
     "metadata": {},
     "output_type": "execute_result"
    }
   ],
   "source": [
    "wcss"
   ]
  },
  {
   "cell_type": "code",
   "execution_count": 21,
   "id": "9d2cf8d6-40f4-40ec-8f51-78ea4982ffae",
   "metadata": {},
   "outputs": [
    {
     "data": {
      "text/plain": [
       "[<matplotlib.lines.Line2D at 0x1e23d1e2450>]"
      ]
     },
     "execution_count": 21,
     "metadata": {},
     "output_type": "execute_result"
    },
    {
     "data": {
      "image/png": "[encoded data removed]",
      "text/plain": [
       "<Figure size 640x480 with 1 Axes>"
      ]
     },
     "metadata": {},
     "output_type": "display_data"
    }
   ],
   "source": [
    "plt.plot(range(1,10),wcss)"
   ]
  },
  {
   "cell_type": "code",
   "execution_count": 43,
   "id": "8f0fa353-3e26-4325-b44b-d165a376310e",
   "metadata": {},
   "outputs": [],
   "source": [
    "#Define the clusters for each record\n",
    "\n",
    "kmeans1= KMeans(n_clusters=3,init='k-means++')\n",
    "y_kmeans = kmeans1.fit_predict(X)"
   ]
  },
  {
   "cell_type": "code",
   "execution_count": 45,
   "id": "9e92de29-45d2-492b-9060-7cf97daa5c20",
   "metadata": {},
   "outputs": [
    {
     "data": {
      "text/plain": [
       "array([2, 2, 2, 1, 0, 0, 1, 0, 2, 0, 0, 0, 2, 0, 2, 2, 2, 2, 0, 1, 0, 2,\n",
       "       0, 1, 1, 0, 2, 2, 2, 0, 0, 1, 2, 1, 2, 1, 1, 2, 2, 0, 0, 2, 0, 1,\n",
       "       1, 0, 2, 1, 0, 2, 1, 2, 2, 2, 0, 0, 0, 1, 1, 1, 2, 0, 2, 1, 1, 2,\n",
       "       1, 2, 1, 1, 1, 1, 2, 0, 0, 0, 2, 0, 1, 0, 2, 1, 1, 2, 0, 2, 1, 0,\n",
       "       1, 0, 2, 1, 0, 0, 0, 1, 1, 1, 2, 1, 0, 1, 2, 2, 0, 2, 2, 1, 1, 1,\n",
       "       2, 1, 2, 2, 0, 0, 0, 1, 2, 0, 2, 0, 2, 2, 2, 2, 2, 2, 2, 1, 2, 0,\n",
       "       0, 0, 0, 0, 1, 0, 0, 0, 0, 2, 1, 0, 1, 0, 1, 1, 0, 1, 0, 2, 0, 1,\n",
       "       2, 1, 2, 1, 0, 2, 1, 2, 2, 1, 2, 1, 1, 1, 2, 0, 0, 1, 2, 1, 0, 0,\n",
       "       2, 2, 2, 0, 1, 0, 0, 2, 2, 2, 1, 2, 2, 2, 0, 2, 0, 2, 0, 0, 1, 0,\n",
       "       1, 1, 1, 1, 2, 2, 1, 2, 0, 1, 2, 1, 1, 1, 0, 1, 0, 1, 2, 1, 1, 0,\n",
       "       0, 2, 1, 0, 1, 2, 0, 0, 1, 2, 2, 0, 2, 2, 2, 1, 2, 0, 1, 1, 2, 2,\n",
       "       2, 2, 1, 2, 0, 2, 0, 2, 2, 2, 0, 0, 1, 1, 1, 0, 1, 0, 2, 0, 1, 1,\n",
       "       1, 0, 2, 1, 2, 0, 0, 2, 0, 2, 1, 1, 2, 2, 2, 2, 1, 2, 2, 1, 1, 0,\n",
       "       2, 1, 1, 1, 0, 2, 0, 0, 2, 2, 2, 0, 2, 2])"
      ]
     },
     "execution_count": 45,
     "metadata": {},
     "output_type": "execute_result"
    }
   ],
   "source": [
    "y_kmeans"
   ]
  },
  {
   "cell_type": "code",
   "execution_count": 47,
   "id": "f318894d-0a34-448a-8e43-8fbcdf7077f4",
   "metadata": {},
   "outputs": [
    {
     "data": {
      "text/html": [
       "<div>\n",
       "<style scoped>\n",
       "    .dataframe tbody tr th:only-of-type {\n",
       "        vertical-align: middle;\n",
       "    }\n",
       "\n",
       "    .dataframe tbody tr th {\n",
       "        vertical-align: top;\n",
       "    }\n",
       "\n",
       "    .dataframe thead th {\n",
       "        text-align: right;\n",
       "    }\n",
       "</style>\n",
       "<table border=\"1\" class=\"dataframe\">\n",
       "  <thead>\n",
       "    <tr style=\"text-align: right;\">\n",
       "      <th></th>\n",
       "      <th>Age</th>\n",
       "      <th>Sex</th>\n",
       "      <th>Region</th>\n",
       "      <th>Married</th>\n",
       "      <th>Car</th>\n",
       "      <th>Savingaccount</th>\n",
       "      <th>Mortageg</th>\n",
       "      <th>PEP</th>\n",
       "      <th>0</th>\n",
       "    </tr>\n",
       "  </thead>\n",
       "  <tbody>\n",
       "    <tr>\n",
       "      <th>0</th>\n",
       "      <td>48</td>\n",
       "      <td>2</td>\n",
       "      <td>3</td>\n",
       "      <td>2</td>\n",
       "      <td>1</td>\n",
       "      <td>2</td>\n",
       "      <td>2</td>\n",
       "      <td>1</td>\n",
       "      <td>2</td>\n",
       "    </tr>\n",
       "    <tr>\n",
       "      <th>1</th>\n",
       "      <td>40</td>\n",
       "      <td>1</td>\n",
       "      <td>1</td>\n",
       "      <td>1</td>\n",
       "      <td>1</td>\n",
       "      <td>1</td>\n",
       "      <td>1</td>\n",
       "      <td>2</td>\n",
       "      <td>2</td>\n",
       "    </tr>\n",
       "    <tr>\n",
       "      <th>2</th>\n",
       "      <td>51</td>\n",
       "      <td>2</td>\n",
       "      <td>3</td>\n",
       "      <td>1</td>\n",
       "      <td>2</td>\n",
       "      <td>1</td>\n",
       "      <td>2</td>\n",
       "      <td>2</td>\n",
       "      <td>1</td>\n",
       "    </tr>\n",
       "    <tr>\n",
       "      <th>3</th>\n",
       "      <td>23</td>\n",
       "      <td>2</td>\n",
       "      <td>1</td>\n",
       "      <td>1</td>\n",
       "      <td>1</td>\n",
       "      <td>2</td>\n",
       "      <td>2</td>\n",
       "      <td>2</td>\n",
       "      <td>0</td>\n",
       "    </tr>\n",
       "    <tr>\n",
       "      <th>4</th>\n",
       "      <td>57</td>\n",
       "      <td>2</td>\n",
       "      <td>2</td>\n",
       "      <td>1</td>\n",
       "      <td>2</td>\n",
       "      <td>2</td>\n",
       "      <td>2</td>\n",
       "      <td>2</td>\n",
       "      <td>1</td>\n",
       "    </tr>\n",
       "    <tr>\n",
       "      <th>...</th>\n",
       "      <td>...</td>\n",
       "      <td>...</td>\n",
       "      <td>...</td>\n",
       "      <td>...</td>\n",
       "      <td>...</td>\n",
       "      <td>...</td>\n",
       "      <td>...</td>\n",
       "      <td>...</td>\n",
       "      <td>...</td>\n",
       "    </tr>\n",
       "    <tr>\n",
       "      <th>295</th>\n",
       "      <td>44</td>\n",
       "      <td>1</td>\n",
       "      <td>3</td>\n",
       "      <td>1</td>\n",
       "      <td>2</td>\n",
       "      <td>2</td>\n",
       "      <td>1</td>\n",
       "      <td>1</td>\n",
       "      <td>2</td>\n",
       "    </tr>\n",
       "    <tr>\n",
       "      <th>296</th>\n",
       "      <td>50</td>\n",
       "      <td>1</td>\n",
       "      <td>1</td>\n",
       "      <td>2</td>\n",
       "      <td>1</td>\n",
       "      <td>1</td>\n",
       "      <td>1</td>\n",
       "      <td>1</td>\n",
       "      <td>2</td>\n",
       "    </tr>\n",
       "    <tr>\n",
       "      <th>297</th>\n",
       "      <td>64</td>\n",
       "      <td>1</td>\n",
       "      <td>3</td>\n",
       "      <td>2</td>\n",
       "      <td>2</td>\n",
       "      <td>2</td>\n",
       "      <td>2</td>\n",
       "      <td>1</td>\n",
       "      <td>1</td>\n",
       "    </tr>\n",
       "    <tr>\n",
       "      <th>298</th>\n",
       "      <td>51</td>\n",
       "      <td>2</td>\n",
       "      <td>1</td>\n",
       "      <td>2</td>\n",
       "      <td>2</td>\n",
       "      <td>2</td>\n",
       "      <td>1</td>\n",
       "      <td>2</td>\n",
       "      <td>1</td>\n",
       "    </tr>\n",
       "    <tr>\n",
       "      <th>299</th>\n",
       "      <td>46</td>\n",
       "      <td>2</td>\n",
       "      <td>1</td>\n",
       "      <td>1</td>\n",
       "      <td>2</td>\n",
       "      <td>1</td>\n",
       "      <td>2</td>\n",
       "      <td>1</td>\n",
       "      <td>2</td>\n",
       "    </tr>\n",
       "  </tbody>\n",
       "</table>\n",
       "<p>300 rows × 9 columns</p>\n",
       "</div>"
      ],
      "text/plain": [
       "     Age  Sex  Region  Married  Car  Savingaccount  Mortageg  PEP  0\n",
       "0     48    2       3        2    1              2         2    1  2\n",
       "1     40    1       1        1    1              1         1    2  2\n",
       "2     51    2       3        1    2              1         2    2  1\n",
       "3     23    2       1        1    1              2         2    2  0\n",
       "4     57    2       2        1    2              2         2    2  1\n",
       "..   ...  ...     ...      ...  ...            ...       ...  ... ..\n",
       "295   44    1       3        1    2              2         1    1  2\n",
       "296   50    1       1        2    1              1         1    1  2\n",
       "297   64    1       3        2    2              2         2    1  1\n",
       "298   51    2       1        2    2              2         1    2  1\n",
       "299   46    2       1        1    2              1         2    1  2\n",
       "\n",
       "[300 rows x 9 columns]"
      ]
     },
     "execution_count": 47,
     "metadata": {},
     "output_type": "execute_result"
    }
   ],
   "source": [
    "#Concatenate the dataset and the cluster index\n",
    "pd.concat([dataset,pd.DataFrame(Y_kmeans)],axis=1)"
   ]
  },
  {
   "cell_type": "code",
   "execution_count": 59,
   "id": "e835503d-a16f-445c-9efd-e0a9570b7887",
   "metadata": {},
   "outputs": [
    {
     "data": {
      "text/plain": [
       "<matplotlib.collections.PathCollection at 0x1e242d6cdd0>"
      ]
     },
     "execution_count": 59,
     "metadata": {},
     "output_type": "execute_result"
    },
    {
     "data": {
      "image/png": "[encoded data removed]",
      "text/plain": [
       "<Figure size 640x480 with 1 Axes>"
      ]
     },
     "metadata": {},
     "output_type": "display_data"
    }
   ],
   "source": [
    "#visualize the clsuters\n",
    "\n",
    "plt.scatter(X[y_kmeans==0,0], y=X[y_kmeans==0,1],s=50,c='red')\n",
    "plt.scatter(X[y_kmeans==1,0], y=X[y_kmeans==1,1],s=50,c='green')\n",
    "\n",
    "plt.scatter(X[y_kmeans==2,0], y=X[y_kmeans==2,1],s=50,c='blue')"
   ]
  },
  {
   "cell_type": "code",
   "execution_count": 61,
   "id": "c64104f6-33b4-496b-9594-34941eea1d19",
   "metadata": {},
   "outputs": [],
   "source": [
    "#Find the cluster centroid for each cluster\n",
    "cluster_centroids  = kmeans1.cluster_centers_"
   ]
  },
  {
   "cell_type": "code",
   "execution_count": 63,
   "id": "ca69cba9-7ceb-47c4-bc62-caa9e005e753",
   "metadata": {},
   "outputs": [
    {
     "data": {
      "text/plain": [
       "array([[59.66666667,  1.58064516,  2.38709677,  1.2688172 ,  1.44086022,\n",
       "         1.51612903,  1.69892473,  1.43010753],\n",
       "       [25.87368421,  1.46315789,  2.44210526,  1.35789474,  1.33684211,\n",
       "         1.51578947,  1.62105263,  1.63157895],\n",
       "       [42.53571429,  1.42857143,  2.19642857,  1.34821429,  1.5       ,\n",
       "         1.5       ,  1.63392857,  1.55357143]])"
      ]
     },
     "execution_count": 63,
     "metadata": {},
     "output_type": "execute_result"
    }
   ],
   "source": [
    "cluster_centroids"
   ]
  },
  {
   "cell_type": "code",
   "execution_count": 93,
   "id": "c3209ac3-1c51-4bc1-ac28-391623546693",
   "metadata": {},
   "outputs": [
    {
     "data": {
      "text/plain": [
       "<matplotlib.collections.PathCollection at 0x1e2430ad820>"
      ]
     },
     "execution_count": 93,
     "metadata": {},
     "output_type": "execute_result"
    },
    {
     "data": {
      "image/png": "[encoded data removed]",
      "text/plain": [
       "<Figure size 640x480 with 1 Axes>"
      ]
     },
     "metadata": {},
     "output_type": "display_data"
    }
   ],
   "source": [
    "#Visualize the cluster centroids in the scatter plot\n",
    "\n",
    "plt.scatter(X[y_kmeans==0,0],y=X[y_kmeans==0,1],s=50,c='red')\n",
    "plt.scatter(X[y_kmeans==1,0],y=X[y_kmeans==1,1],s=50,c='green')\n",
    "plt.scatter(X[y_kmeans==2,0],y=X[y_kmeans==2,1],s=50,c='blue')\n",
    "\n",
    "plt.scatter(cluster_centroids[0][0],cluster_centroids[0][1],marker='*',c='black')\n",
    "plt.scatter(cluster_centroids[1][0],cluster_centroids[1][1],marker='*',c='black')\n",
    "plt.scatter(cluster_centroids[2][0],cluster_centroids[2][1],marker='*',c='black')"
   ]
  },
  {
   "cell_type": "code",
   "execution_count": 95,
   "id": "0e77396c-b43a-4ea4-9306-23fd369ba1eb",
   "metadata": {},
   "outputs": [],
   "source": [
    "import pandas as pd\n",
    "import numpy as np\n",
    "import matplotlib.pyplot as plt\n"
   ]
  },
  {
   "cell_type": "code",
   "execution_count": 97,
   "id": "62f701aa-3688-4424-a077-2c26ff495f20",
   "metadata": {},
   "outputs": [],
   "source": [
    "df = pd.read_csv('Bank1.csv')"
   ]
  },
  {
   "cell_type": "code",
   "execution_count": 101,
   "id": "1d06f72e-eff1-400c-a899-d24757dca5ac",
   "metadata": {},
   "outputs": [
    {
     "data": {
      "text/html": [
       "<div>\n",
       "<style scoped>\n",
       "    .dataframe tbody tr th:only-of-type {\n",
       "        vertical-align: middle;\n",
       "    }\n",
       "\n",
       "    .dataframe tbody tr th {\n",
       "        vertical-align: top;\n",
       "    }\n",
       "\n",
       "    .dataframe thead th {\n",
       "        text-align: right;\n",
       "    }\n",
       "</style>\n",
       "<table border=\"1\" class=\"dataframe\">\n",
       "  <thead>\n",
       "    <tr style=\"text-align: right;\">\n",
       "      <th></th>\n",
       "      <th>Age</th>\n",
       "      <th>Sex</th>\n",
       "      <th>Region</th>\n",
       "      <th>Married</th>\n",
       "      <th>Car</th>\n",
       "      <th>Savingaccount</th>\n",
       "      <th>Mortageg</th>\n",
       "      <th>PEP</th>\n",
       "    </tr>\n",
       "  </thead>\n",
       "  <tbody>\n",
       "    <tr>\n",
       "      <th>0</th>\n",
       "      <td>48</td>\n",
       "      <td>2</td>\n",
       "      <td>3</td>\n",
       "      <td>2</td>\n",
       "      <td>1</td>\n",
       "      <td>2</td>\n",
       "      <td>2</td>\n",
       "      <td>1</td>\n",
       "    </tr>\n",
       "    <tr>\n",
       "      <th>1</th>\n",
       "      <td>40</td>\n",
       "      <td>1</td>\n",
       "      <td>1</td>\n",
       "      <td>1</td>\n",
       "      <td>1</td>\n",
       "      <td>1</td>\n",
       "      <td>1</td>\n",
       "      <td>2</td>\n",
       "    </tr>\n",
       "    <tr>\n",
       "      <th>2</th>\n",
       "      <td>51</td>\n",
       "      <td>2</td>\n",
       "      <td>3</td>\n",
       "      <td>1</td>\n",
       "      <td>2</td>\n",
       "      <td>1</td>\n",
       "      <td>2</td>\n",
       "      <td>2</td>\n",
       "    </tr>\n",
       "    <tr>\n",
       "      <th>3</th>\n",
       "      <td>23</td>\n",
       "      <td>2</td>\n",
       "      <td>1</td>\n",
       "      <td>1</td>\n",
       "      <td>1</td>\n",
       "      <td>2</td>\n",
       "      <td>2</td>\n",
       "      <td>2</td>\n",
       "    </tr>\n",
       "    <tr>\n",
       "      <th>4</th>\n",
       "      <td>57</td>\n",
       "      <td>2</td>\n",
       "      <td>2</td>\n",
       "      <td>1</td>\n",
       "      <td>2</td>\n",
       "      <td>2</td>\n",
       "      <td>2</td>\n",
       "      <td>2</td>\n",
       "    </tr>\n",
       "  </tbody>\n",
       "</table>\n",
       "</div>"
      ],
      "text/plain": [
       "   Age  Sex  Region  Married  Car  Savingaccount  Mortageg  PEP\n",
       "0   48    2       3        2    1              2         2    1\n",
       "1   40    1       1        1    1              1         1    2\n",
       "2   51    2       3        1    2              1         2    2\n",
       "3   23    2       1        1    1              2         2    2\n",
       "4   57    2       2        1    2              2         2    2"
      ]
     },
     "execution_count": 101,
     "metadata": {},
     "output_type": "execute_result"
    }
   ],
   "source": [
    "df.head()"
   ]
  },
  {
   "cell_type": "code",
   "execution_count": 99,
   "id": "17326eb3-94d6-49a5-acfd-c2bace6e52b6",
   "metadata": {},
   "outputs": [],
   "source": [
    "#Separate the data frame into two parts \n",
    "\n",
    "X = df.values\n",
    "Y=df['PEP']\n"
   ]
  },
  {
   "cell_type": "code",
   "execution_count": 103,
   "id": "3d573173-c318-46c7-b3d1-f2547fd68396",
   "metadata": {},
   "outputs": [],
   "source": [
    "#Delete the class variable in independent dataset\n",
    "X = np.delete(X,7,axis=1)"
   ]
  },
  {
   "cell_type": "code",
   "execution_count": 107,
   "id": "9c088908-0f22-4999-a5d6-8c930248b405",
   "metadata": {},
   "outputs": [
    {
     "name": "stdout",
     "output_type": "stream",
     "text": [
      "[[48  2  3  2  1  2  2]\n",
      " [40  1  1  1  1  1  1]\n",
      " [51  2  3  1  2  1  2]\n",
      " [23  2  1  1  1  2  2]\n",
      " [57  2  2  1  2  2  2]]\n"
     ]
    }
   ],
   "source": [
    "print(X[:5])"
   ]
  },
  {
   "cell_type": "code",
   "execution_count": 111,
   "id": "d03cb6c6-56b3-488d-8c1f-577ee1de9f72",
   "metadata": {},
   "outputs": [],
   "source": [
    "#Split the dataset into test and training se\n",
    "\n",
    "from sklearn.model_selection import train_test_split\n",
    "\n",
    "X_train,X_test,Y_train,Y_test = train_test_split(X,Y,test_size=0.3,random_state=0)"
   ]
  },
  {
   "cell_type": "code",
   "execution_count": 113,
   "id": "6c6c0c35-c7d1-4cce-8d37-01f7082a836f",
   "metadata": {},
   "outputs": [
    {
     "data": {
      "text/plain": [
       "0.7111111111111111"
      ]
     },
     "execution_count": 113,
     "metadata": {},
     "output_type": "execute_result"
    }
   ],
   "source": [
    "#Find the prediction of the Using Decision tree\n",
    "\n",
    "from sklearn import tree\n",
    "\n",
    "df_clf = tree.DecisionTreeClassifier(max_depth=5)\n",
    "\n",
    "df_clf.fit(X_train,Y_train)\n",
    "df_clf.score(X_test,Y_test)\n",
    "\n",
    "y_pred = df_clf.predict(X_test)\n",
    "\n",
    "df_clf.score(X_test,Y_test)"
   ]
  },
  {
   "cell_type": "code",
   "execution_count": 117,
   "id": "fc85b052-40cc-4244-b742-9eaec59b401c",
   "metadata": {},
   "outputs": [
    {
     "data": {
      "text/plain": [
       "array([1, 1, 1, 1, 2, 1, 1, 1, 1, 2, 1, 2, 1, 1, 2, 1, 1, 1, 1, 2, 2, 2,\n",
       "       1, 2, 2, 1, 1, 2, 2, 1, 1, 2, 1, 1, 1, 1, 2, 2, 2, 1, 2, 1, 2, 1,\n",
       "       1, 1, 2, 2, 2, 1, 1, 1, 1, 2, 1, 2, 1, 1, 1, 2, 1, 1, 1, 1, 1, 2,\n",
       "       1, 1, 1, 1, 2, 1, 1, 1, 2, 1, 1, 1, 1, 1, 1, 2, 2, 2, 2, 2, 1, 2,\n",
       "       1, 1], dtype=int64)"
      ]
     },
     "execution_count": 117,
     "metadata": {},
     "output_type": "execute_result"
    }
   ],
   "source": [
    "y_pred"
   ]
  },
  {
   "cell_type": "code",
   "execution_count": 119,
   "id": "0eb52f18-c2e5-4a5e-a352-19a60393b032",
   "metadata": {},
   "outputs": [
    {
     "data": {
      "text/plain": [
       "array([[41,  9],\n",
       "       [17, 23]], dtype=int64)"
      ]
     },
     "execution_count": 119,
     "metadata": {},
     "output_type": "execute_result"
    }
   ],
   "source": [
    "from sklearn.metrics import confusion_matrix\n",
    "\n",
    "confusion_matrix(Y_test,y_pred)"
   ]
  },
  {
   "cell_type": "code",
   "execution_count": null,
   "id": "fb3478c7-c958-473d-9588-c4015463f489",
   "metadata": {},
   "outputs": [],
   "source": []
  }
 ],
 "metadata": {
  "kernelspec": {
   "display_name": "Python 3 (ipykernel)",
   "language": "python",
   "name": "python3"
  },
  "language_info": {
   "codemirror_mode": {
    "name": "ipython",
    "version": 3
   },
   "file_extension": ".py",
   "mimetype": "text/x-python",
   "name": "python",
   "nbconvert_exporter": "python",
   "pygments_lexer": "ipython3",
   "version": "3.12.4"
  }
 },
 "nbformat": 4,
 "nbformat_minor": 5
}
