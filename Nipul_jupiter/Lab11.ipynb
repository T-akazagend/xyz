{
 "cells": [
  {
   "cell_type": "code",
   "execution_count": 188,
   "id": "c4e06797-54a3-4726-9c7c-77a9a6905f8b",
   "metadata": {},
   "outputs": [],
   "source": [
    "#k-means classificaton\n",
    "\n",
    "import pandas as pd\n",
    "import numpy as np\n",
    "import matplotlib.pyplot as plt\n"
   ]
  },
  {
   "cell_type": "code",
   "execution_count": 190,
   "id": "3880862f-a477-499f-8591-a7e7eb99927b",
   "metadata": {},
   "outputs": [],
   "source": [
    "dataset = pd.read_csv('Bank1.csv')"
   ]
  },
  {
   "cell_type": "code",
   "execution_count": 192,
   "id": "4e2a6e76-33f7-4905-b6ee-2c64bb753186",
   "metadata": {},
   "outputs": [
    {
     "data": {
      "text/html": [
       "<div>\n",
       "<style scoped>\n",
       "    .dataframe tbody tr th:only-of-type {\n",
       "        vertical-align: middle;\n",
       "    }\n",
       "\n",
       "    .dataframe tbody tr th {\n",
       "        vertical-align: top;\n",
       "    }\n",
       "\n",
       "    .dataframe thead th {\n",
       "        text-align: right;\n",
       "    }\n",
       "</style>\n",
       "<table border=\"1\" class=\"dataframe\">\n",
       "  <thead>\n",
       "    <tr style=\"text-align: right;\">\n",
       "      <th></th>\n",
       "      <th>Age</th>\n",
       "      <th>Sex</th>\n",
       "      <th>Region</th>\n",
       "      <th>Married</th>\n",
       "      <th>Car</th>\n",
       "      <th>Savingaccount</th>\n",
       "      <th>Mortageg</th>\n",
       "      <th>PEP</th>\n",
       "    </tr>\n",
       "  </thead>\n",
       "  <tbody>\n",
       "    <tr>\n",
       "      <th>0</th>\n",
       "      <td>48</td>\n",
       "      <td>2</td>\n",
       "      <td>3</td>\n",
       "      <td>2</td>\n",
       "      <td>1</td>\n",
       "      <td>2</td>\n",
       "      <td>2</td>\n",
       "      <td>1</td>\n",
       "    </tr>\n",
       "    <tr>\n",
       "      <th>1</th>\n",
       "      <td>40</td>\n",
       "      <td>1</td>\n",
       "      <td>1</td>\n",
       "      <td>1</td>\n",
       "      <td>1</td>\n",
       "      <td>1</td>\n",
       "      <td>1</td>\n",
       "      <td>2</td>\n",
       "    </tr>\n",
       "    <tr>\n",
       "      <th>2</th>\n",
       "      <td>51</td>\n",
       "      <td>2</td>\n",
       "      <td>3</td>\n",
       "      <td>1</td>\n",
       "      <td>2</td>\n",
       "      <td>1</td>\n",
       "      <td>2</td>\n",
       "      <td>2</td>\n",
       "    </tr>\n",
       "    <tr>\n",
       "      <th>3</th>\n",
       "      <td>23</td>\n",
       "      <td>2</td>\n",
       "      <td>1</td>\n",
       "      <td>1</td>\n",
       "      <td>1</td>\n",
       "      <td>2</td>\n",
       "      <td>2</td>\n",
       "      <td>2</td>\n",
       "    </tr>\n",
       "    <tr>\n",
       "      <th>4</th>\n",
       "      <td>57</td>\n",
       "      <td>2</td>\n",
       "      <td>2</td>\n",
       "      <td>1</td>\n",
       "      <td>2</td>\n",
       "      <td>2</td>\n",
       "      <td>2</td>\n",
       "      <td>2</td>\n",
       "    </tr>\n",
       "  </tbody>\n",
       "</table>\n",
       "</div>"
      ],
      "text/plain": [
       "   Age  Sex  Region  Married  Car  Savingaccount  Mortageg  PEP\n",
       "0   48    2       3        2    1              2         2    1\n",
       "1   40    1       1        1    1              1         1    2\n",
       "2   51    2       3        1    2              1         2    2\n",
       "3   23    2       1        1    1              2         2    2\n",
       "4   57    2       2        1    2              2         2    2"
      ]
     },
     "execution_count": 192,
     "metadata": {},
     "output_type": "execute_result"
    }
   ],
   "source": [
    "dataset.head()"
   ]
  },
  {
   "cell_type": "code",
   "execution_count": 194,
   "id": "7ea622dc-ad0f-464f-b7f0-0f06609a23d7",
   "metadata": {},
   "outputs": [
    {
     "data": {
      "text/plain": [
       "array([[48,  2,  3, ...,  2,  2,  1],\n",
       "       [40,  1,  1, ...,  1,  1,  2],\n",
       "       [51,  2,  3, ...,  1,  2,  2],\n",
       "       ...,\n",
       "       [64,  1,  3, ...,  2,  2,  1],\n",
       "       [51,  2,  1, ...,  2,  1,  2],\n",
       "       [46,  2,  1, ...,  1,  2,  1]], dtype=int64)"
      ]
     },
     "execution_count": 194,
     "metadata": {},
     "output_type": "execute_result"
    }
   ],
   "source": [
    "X =dataset.iloc[:,0:8].values\n",
    "X"
   ]
  },
  {
   "cell_type": "code",
   "execution_count": 198,
   "id": "313907cc-d35e-4e2a-9567-65042c67928a",
   "metadata": {},
   "outputs": [],
   "source": [
    "X = np.delete(X,7,axis=1)"
   ]
  },
  {
   "cell_type": "code",
   "execution_count": 200,
   "id": "5c2d087e-eb6e-493d-9be8-28ae011d1de1",
   "metadata": {},
   "outputs": [
    {
     "data": {
      "text/plain": [
       "array([[48,  2,  3, ...,  1,  2,  2],\n",
       "       [40,  1,  1, ...,  1,  1,  1],\n",
       "       [51,  2,  3, ...,  2,  1,  2],\n",
       "       ...,\n",
       "       [64,  1,  3, ...,  2,  2,  2],\n",
       "       [51,  2,  1, ...,  2,  2,  1],\n",
       "       [46,  2,  1, ...,  2,  1,  2]], dtype=int64)"
      ]
     },
     "execution_count": 200,
     "metadata": {},
     "output_type": "execute_result"
    }
   ],
   "source": [
    "X"
   ]
  },
  {
   "cell_type": "code",
   "execution_count": 212,
   "id": "73de50aa-3308-42e5-962a-961f29256c56",
   "metadata": {},
   "outputs": [],
   "source": [
    "# creating the elbow chart\n",
    "from sklearn.cluster import KMeans\n",
    "wcss=[]\n",
    "for i in range(1,10):\n",
    "    kmeans = KMeans(n_clusters=i,init='k-means++')\n",
    "    kmeans.fit(X)\n",
    "    wcss.append(kmeans.inertia_)"
   ]
  },
  {
   "cell_type": "code",
   "execution_count": 214,
   "id": "1b75c73c-fd02-4c01-8627-a8b353a91919",
   "metadata": {},
   "outputs": [
    {
     "data": {
      "text/plain": [
       "[61107.880000000005,\n",
       " 17053.970418696103,\n",
       " 7434.425028296546,\n",
       " 4408.79617708628,\n",
       " 3478.584431769638,\n",
       " 2320.0017199135727,\n",
       " 1745.091076995625,\n",
       " 1431.2475717104126,\n",
       " 1292.0220090233274]"
      ]
     },
     "execution_count": 214,
     "metadata": {},
     "output_type": "execute_result"
    }
   ],
   "source": [
    "wcss"
   ]
  },
  {
   "cell_type": "code",
   "execution_count": 29,
   "id": "d584363e-9041-4f80-8999-3c3a992c6714",
   "metadata": {},
   "outputs": [
    {
     "data": {
      "text/plain": [
       "[<matplotlib.lines.Line2D at 0x1648857a420>]"
      ]
     },
     "execution_count": 29,
     "metadata": {},
     "output_type": "execute_result"
    },
    {
     "data": {
      "image/png": "[encoded data removed]",
      "text/plain": [
       "<Figure size 640x480 with 1 Axes>"
      ]
     },
     "metadata": {},
     "output_type": "display_data"
    }
   ],
   "source": [
    "plt.plot(range(1,10),wcss)"
   ]
  },
  {
   "cell_type": "code",
   "execution_count": 222,
   "id": "f0fb5166-9e91-400e-b1ec-576aca4569c4",
   "metadata": {},
   "outputs": [],
   "source": [
    "kmeans1=KMeans(n_clusters=3,init='k-means++')\n",
    "y_kmeans=kmeans.fit_predict(X) "
   ]
  },
  {
   "cell_type": "code",
   "execution_count": 224,
   "id": "3c145d12-ff7a-4afd-850c-b564d0026f0e",
   "metadata": {
    "scrolled": true
   },
   "outputs": [
    {
     "data": {
      "text/plain": [
       "array([4, 8, 3, 6, 1, 1, 6, 1, 0, 3, 5, 3, 8, 5, 0, 0, 0, 4, 5, 7, 1, 3,\n",
       "       3, 2, 6, 1, 4, 0, 0, 1, 1, 6, 4, 7, 8, 2, 6, 0, 8, 5, 3, 4, 5, 7,\n",
       "       6, 5, 3, 2, 3, 4, 2, 0, 8, 4, 5, 3, 1, 2, 2, 7, 8, 5, 4, 6, 6, 8,\n",
       "       6, 8, 7, 7, 2, 6, 0, 1, 5, 1, 4, 1, 7, 1, 3, 7, 2, 0, 5, 0, 2, 5,\n",
       "       7, 3, 0, 2, 3, 1, 1, 6, 6, 7, 0, 6, 3, 2, 8, 8, 5, 8, 4, 6, 6, 7,\n",
       "       0, 7, 3, 0, 1, 3, 1, 2, 0, 5, 4, 5, 0, 0, 4, 4, 0, 4, 8, 2, 8, 1,\n",
       "       3, 5, 5, 3, 6, 1, 5, 5, 3, 4, 2, 5, 2, 1, 7, 6, 5, 7, 3, 8, 5, 7,\n",
       "       8, 6, 3, 2, 1, 8, 6, 8, 4, 6, 8, 2, 6, 2, 0, 1, 3, 6, 0, 7, 5, 1,\n",
       "       8, 8, 8, 5, 6, 1, 5, 4, 0, 4, 6, 4, 0, 8, 5, 0, 5, 8, 3, 3, 7, 3,\n",
       "       2, 2, 7, 2, 4, 0, 2, 4, 3, 7, 8, 6, 2, 6, 5, 2, 1, 2, 0, 7, 2, 1,\n",
       "       5, 4, 6, 1, 6, 8, 5, 3, 7, 0, 4, 5, 4, 8, 4, 6, 0, 5, 6, 6, 8, 4,\n",
       "       8, 0, 6, 8, 3, 0, 3, 0, 8, 8, 1, 1, 2, 2, 7, 5, 6, 5, 8, 5, 6, 2,\n",
       "       2, 1, 0, 7, 8, 5, 5, 3, 1, 8, 7, 7, 8, 8, 4, 4, 7, 4, 8, 6, 2, 5,\n",
       "       0, 6, 2, 2, 1, 4, 1, 1, 4, 8, 3, 5, 3, 4])"
      ]
     },
     "execution_count": 224,
     "metadata": {},
     "output_type": "execute_result"
    }
   ],
   "source": [
    "y_kmeans"
   ]
  },
  {
   "cell_type": "code",
   "execution_count": 226,
   "id": "4c3b44d8-7c37-480c-b8a4-fe1936d708d7",
   "metadata": {},
   "outputs": [
    {
     "data": {
      "text/html": [
       "<div>\n",
       "<style scoped>\n",
       "    .dataframe tbody tr th:only-of-type {\n",
       "        vertical-align: middle;\n",
       "    }\n",
       "\n",
       "    .dataframe tbody tr th {\n",
       "        vertical-align: top;\n",
       "    }\n",
       "\n",
       "    .dataframe thead th {\n",
       "        text-align: right;\n",
       "    }\n",
       "</style>\n",
       "<table border=\"1\" class=\"dataframe\">\n",
       "  <thead>\n",
       "    <tr style=\"text-align: right;\">\n",
       "      <th></th>\n",
       "      <th>Age</th>\n",
       "      <th>Sex</th>\n",
       "      <th>Region</th>\n",
       "      <th>Married</th>\n",
       "      <th>Car</th>\n",
       "      <th>Savingaccount</th>\n",
       "      <th>Mortageg</th>\n",
       "      <th>PEP</th>\n",
       "      <th>0</th>\n",
       "    </tr>\n",
       "  </thead>\n",
       "  <tbody>\n",
       "    <tr>\n",
       "      <th>0</th>\n",
       "      <td>48</td>\n",
       "      <td>2</td>\n",
       "      <td>3</td>\n",
       "      <td>2</td>\n",
       "      <td>1</td>\n",
       "      <td>2</td>\n",
       "      <td>2</td>\n",
       "      <td>1</td>\n",
       "      <td>4</td>\n",
       "    </tr>\n",
       "    <tr>\n",
       "      <th>1</th>\n",
       "      <td>40</td>\n",
       "      <td>1</td>\n",
       "      <td>1</td>\n",
       "      <td>1</td>\n",
       "      <td>1</td>\n",
       "      <td>1</td>\n",
       "      <td>1</td>\n",
       "      <td>2</td>\n",
       "      <td>8</td>\n",
       "    </tr>\n",
       "    <tr>\n",
       "      <th>2</th>\n",
       "      <td>51</td>\n",
       "      <td>2</td>\n",
       "      <td>3</td>\n",
       "      <td>1</td>\n",
       "      <td>2</td>\n",
       "      <td>1</td>\n",
       "      <td>2</td>\n",
       "      <td>2</td>\n",
       "      <td>3</td>\n",
       "    </tr>\n",
       "    <tr>\n",
       "      <th>3</th>\n",
       "      <td>23</td>\n",
       "      <td>2</td>\n",
       "      <td>1</td>\n",
       "      <td>1</td>\n",
       "      <td>1</td>\n",
       "      <td>2</td>\n",
       "      <td>2</td>\n",
       "      <td>2</td>\n",
       "      <td>6</td>\n",
       "    </tr>\n",
       "    <tr>\n",
       "      <th>4</th>\n",
       "      <td>57</td>\n",
       "      <td>2</td>\n",
       "      <td>2</td>\n",
       "      <td>1</td>\n",
       "      <td>2</td>\n",
       "      <td>2</td>\n",
       "      <td>2</td>\n",
       "      <td>2</td>\n",
       "      <td>1</td>\n",
       "    </tr>\n",
       "    <tr>\n",
       "      <th>...</th>\n",
       "      <td>...</td>\n",
       "      <td>...</td>\n",
       "      <td>...</td>\n",
       "      <td>...</td>\n",
       "      <td>...</td>\n",
       "      <td>...</td>\n",
       "      <td>...</td>\n",
       "      <td>...</td>\n",
       "      <td>...</td>\n",
       "    </tr>\n",
       "    <tr>\n",
       "      <th>295</th>\n",
       "      <td>44</td>\n",
       "      <td>1</td>\n",
       "      <td>3</td>\n",
       "      <td>1</td>\n",
       "      <td>2</td>\n",
       "      <td>2</td>\n",
       "      <td>1</td>\n",
       "      <td>1</td>\n",
       "      <td>8</td>\n",
       "    </tr>\n",
       "    <tr>\n",
       "      <th>296</th>\n",
       "      <td>50</td>\n",
       "      <td>1</td>\n",
       "      <td>1</td>\n",
       "      <td>2</td>\n",
       "      <td>1</td>\n",
       "      <td>1</td>\n",
       "      <td>1</td>\n",
       "      <td>1</td>\n",
       "      <td>3</td>\n",
       "    </tr>\n",
       "    <tr>\n",
       "      <th>297</th>\n",
       "      <td>64</td>\n",
       "      <td>1</td>\n",
       "      <td>3</td>\n",
       "      <td>2</td>\n",
       "      <td>2</td>\n",
       "      <td>2</td>\n",
       "      <td>2</td>\n",
       "      <td>1</td>\n",
       "      <td>5</td>\n",
       "    </tr>\n",
       "    <tr>\n",
       "      <th>298</th>\n",
       "      <td>51</td>\n",
       "      <td>2</td>\n",
       "      <td>1</td>\n",
       "      <td>2</td>\n",
       "      <td>2</td>\n",
       "      <td>2</td>\n",
       "      <td>1</td>\n",
       "      <td>2</td>\n",
       "      <td>3</td>\n",
       "    </tr>\n",
       "    <tr>\n",
       "      <th>299</th>\n",
       "      <td>46</td>\n",
       "      <td>2</td>\n",
       "      <td>1</td>\n",
       "      <td>1</td>\n",
       "      <td>2</td>\n",
       "      <td>1</td>\n",
       "      <td>2</td>\n",
       "      <td>1</td>\n",
       "      <td>4</td>\n",
       "    </tr>\n",
       "  </tbody>\n",
       "</table>\n",
       "<p>300 rows × 9 columns</p>\n",
       "</div>"
      ],
      "text/plain": [
       "     Age  Sex  Region  Married  Car  Savingaccount  Mortageg  PEP  0\n",
       "0     48    2       3        2    1              2         2    1  4\n",
       "1     40    1       1        1    1              1         1    2  8\n",
       "2     51    2       3        1    2              1         2    2  3\n",
       "3     23    2       1        1    1              2         2    2  6\n",
       "4     57    2       2        1    2              2         2    2  1\n",
       "..   ...  ...     ...      ...  ...            ...       ...  ... ..\n",
       "295   44    1       3        1    2              2         1    1  8\n",
       "296   50    1       1        2    1              1         1    1  3\n",
       "297   64    1       3        2    2              2         2    1  5\n",
       "298   51    2       1        2    2              2         1    2  3\n",
       "299   46    2       1        1    2              1         2    1  4\n",
       "\n",
       "[300 rows x 9 columns]"
      ]
     },
     "execution_count": 226,
     "metadata": {},
     "output_type": "execute_result"
    }
   ],
   "source": [
    "pd.concat([dataset,pd.DataFrame(y_kmeans)],axis=1)"
   ]
  },
  {
   "cell_type": "code",
   "execution_count": 114,
   "id": "824ce0df-70d0-4507-af39-fa3d35372025",
   "metadata": {},
   "outputs": [
    {
     "data": {
      "text/plain": [
       "<matplotlib.collections.PathCollection at 0x1648c6f4bf0>"
      ]
     },
     "execution_count": 114,
     "metadata": {},
     "output_type": "execute_result"
    },
    {
     "data": {
      "image/png": "[encoded data removed]",
      "text/plain": [
       "<Figure size 640x480 with 1 Axes>"
      ]
     },
     "metadata": {},
     "output_type": "display_data"
    }
   ],
   "source": [
    "#visualize clusters\n",
    "\n",
    "plt.scatter(X[y_kmeans==0,0],y=X[y_kmeans==0,1],s=50,c='red')\n",
    "plt.scatter(X[y_kmeans==1,0],y=X[y_kmeans==1,1],s=50,c='blue')\n",
    "plt.scatter(X[y_kmeans==2,0],y=X[y_kmeans==2,1],s=50,c='yellow')"
   ]
  },
  {
   "cell_type": "code",
   "execution_count": 116,
   "id": "8da4c56d-9498-4795-ba75-224f6b97e85f",
   "metadata": {},
   "outputs": [
    {
     "name": "stdout",
     "output_type": "stream",
     "text": [
      "[[41.06140351  1.4122807   2.23684211  1.34210526  1.45614035  1.5\n",
      "   1.59649123  1.52631579]\n",
      " [58.85294118  1.58823529  2.34313725  1.28431373  1.45098039  1.5\n",
      "   1.70588235  1.45098039]\n",
      " [24.8452381   1.46428571  2.45238095  1.35714286  1.36904762  1.53571429\n",
      "   1.6547619   1.66666667]]\n"
     ]
    }
   ],
   "source": [
    "clusters = kmeans1.cluster_centers_\n",
    "print(clusters)"
   ]
  },
  {
   "cell_type": "code",
   "execution_count": 132,
   "id": "d3cde322-f15c-4236-b426-12bd95f64145",
   "metadata": {},
   "outputs": [
    {
     "data": {
      "text/plain": [
       "<matplotlib.collections.PathCollection at 0x1648c326c00>"
      ]
     },
     "execution_count": 132,
     "metadata": {},
     "output_type": "execute_result"
    },
    {
     "data": {
      "image/png": "[encoded data removed]",
      "text/plain": [
       "<Figure size 640x480 with 1 Axes>"
      ]
     },
     "metadata": {},
     "output_type": "display_data"
    }
   ],
   "source": [
    "plt.scatter(X[y_kmeans==0,0],y=X[y_kmeans==0,1],s=50,c='red')\n",
    "plt.scatter(X[y_kmeans==1,0],y=X[y_kmeans==1,1],s=50,c='blue')\n",
    "plt.scatter(X[y_kmeans==2,0],y=X[y_kmeans==2,1],s=50,c='yellow')\n",
    "\n",
    "plt.scatter(clusters[0][0],clusters[0][1],marker='*',s=50,c='black')\n",
    "plt.scatter(clusters[1][0],clusters[1][1],marker='*',s=50,c='black')\n",
    "plt.scatter(clusters[2][0],clusters[2][1],marker='*',s=50,c='black')\n"
   ]
  },
  {
   "cell_type": "code",
   "execution_count": 134,
   "id": "aad8ab65-06d1-4aad-9414-70e23eeef0db",
   "metadata": {},
   "outputs": [],
   "source": [
    "#question 02\n",
    "\n",
    "import numpy as np\n",
    "import pandas as pd\n",
    "import matplotlib.pyplot as plt\n",
    "import seaborn as sns"
   ]
  },
  {
   "cell_type": "code",
   "execution_count": 136,
   "id": "043be47a-c3e0-456e-aa8b-cc8789aeb576",
   "metadata": {},
   "outputs": [],
   "source": [
    "df1 = pd.read_csv('Bank1.csv')"
   ]
  },
  {
   "cell_type": "code",
   "execution_count": 138,
   "id": "dfd1816d-9901-46f4-8fec-e02ca62c9945",
   "metadata": {},
   "outputs": [
    {
     "data": {
      "text/html": [
       "<div>\n",
       "<style scoped>\n",
       "    .dataframe tbody tr th:only-of-type {\n",
       "        vertical-align: middle;\n",
       "    }\n",
       "\n",
       "    .dataframe tbody tr th {\n",
       "        vertical-align: top;\n",
       "    }\n",
       "\n",
       "    .dataframe thead th {\n",
       "        text-align: right;\n",
       "    }\n",
       "</style>\n",
       "<table border=\"1\" class=\"dataframe\">\n",
       "  <thead>\n",
       "    <tr style=\"text-align: right;\">\n",
       "      <th></th>\n",
       "      <th>Age</th>\n",
       "      <th>Sex</th>\n",
       "      <th>Region</th>\n",
       "      <th>Married</th>\n",
       "      <th>Car</th>\n",
       "      <th>Savingaccount</th>\n",
       "      <th>Mortageg</th>\n",
       "      <th>PEP</th>\n",
       "    </tr>\n",
       "  </thead>\n",
       "  <tbody>\n",
       "    <tr>\n",
       "      <th>0</th>\n",
       "      <td>48</td>\n",
       "      <td>2</td>\n",
       "      <td>3</td>\n",
       "      <td>2</td>\n",
       "      <td>1</td>\n",
       "      <td>2</td>\n",
       "      <td>2</td>\n",
       "      <td>1</td>\n",
       "    </tr>\n",
       "    <tr>\n",
       "      <th>1</th>\n",
       "      <td>40</td>\n",
       "      <td>1</td>\n",
       "      <td>1</td>\n",
       "      <td>1</td>\n",
       "      <td>1</td>\n",
       "      <td>1</td>\n",
       "      <td>1</td>\n",
       "      <td>2</td>\n",
       "    </tr>\n",
       "    <tr>\n",
       "      <th>2</th>\n",
       "      <td>51</td>\n",
       "      <td>2</td>\n",
       "      <td>3</td>\n",
       "      <td>1</td>\n",
       "      <td>2</td>\n",
       "      <td>1</td>\n",
       "      <td>2</td>\n",
       "      <td>2</td>\n",
       "    </tr>\n",
       "    <tr>\n",
       "      <th>3</th>\n",
       "      <td>23</td>\n",
       "      <td>2</td>\n",
       "      <td>1</td>\n",
       "      <td>1</td>\n",
       "      <td>1</td>\n",
       "      <td>2</td>\n",
       "      <td>2</td>\n",
       "      <td>2</td>\n",
       "    </tr>\n",
       "    <tr>\n",
       "      <th>4</th>\n",
       "      <td>57</td>\n",
       "      <td>2</td>\n",
       "      <td>2</td>\n",
       "      <td>1</td>\n",
       "      <td>2</td>\n",
       "      <td>2</td>\n",
       "      <td>2</td>\n",
       "      <td>2</td>\n",
       "    </tr>\n",
       "  </tbody>\n",
       "</table>\n",
       "</div>"
      ],
      "text/plain": [
       "   Age  Sex  Region  Married  Car  Savingaccount  Mortageg  PEP\n",
       "0   48    2       3        2    1              2         2    1\n",
       "1   40    1       1        1    1              1         1    2\n",
       "2   51    2       3        1    2              1         2    2\n",
       "3   23    2       1        1    1              2         2    2\n",
       "4   57    2       2        1    2              2         2    2"
      ]
     },
     "execution_count": 138,
     "metadata": {},
     "output_type": "execute_result"
    }
   ],
   "source": [
    "df1.head()"
   ]
  },
  {
   "cell_type": "code",
   "execution_count": 142,
   "id": "ffe8a573-398c-487b-875a-c3793e65cb5f",
   "metadata": {},
   "outputs": [],
   "source": [
    "#Separate the data frame into two parts\n",
    "X =df1.values\n",
    "Y=df1['PEP']"
   ]
  },
  {
   "cell_type": "code",
   "execution_count": 144,
   "id": "f86bb770-f5f9-43a6-9321-a4cab8382280",
   "metadata": {},
   "outputs": [],
   "source": [
    "#deleting the class variable in the dataset\n",
    "\n",
    "X = np.delete(X,7,axis=1)"
   ]
  },
  {
   "cell_type": "code",
   "execution_count": 146,
   "id": "3fdd74b1-275c-4906-b176-0e410454dfa4",
   "metadata": {},
   "outputs": [
    {
     "data": {
      "text/plain": [
       "array([[48,  2,  3, ...,  1,  2,  2],\n",
       "       [40,  1,  1, ...,  1,  1,  1],\n",
       "       [51,  2,  3, ...,  2,  1,  2],\n",
       "       ...,\n",
       "       [64,  1,  3, ...,  2,  2,  2],\n",
       "       [51,  2,  1, ...,  2,  2,  1],\n",
       "       [46,  2,  1, ...,  2,  1,  2]], dtype=int64)"
      ]
     },
     "execution_count": 146,
     "metadata": {},
     "output_type": "execute_result"
    }
   ],
   "source": [
    "X"
   ]
  },
  {
   "cell_type": "code",
   "execution_count": 161,
   "id": "03a04be8-1d8c-43af-9afd-a843f5d1d660",
   "metadata": {},
   "outputs": [],
   "source": [
    "#Split the dataset into test and training se\n",
    "\n",
    "from sklearn.model_selection import train_test_split\n",
    "X_train,X_test,Y_train,Y_test= train_test_split(X,Y,test_size=0.3,random_state=0)"
   ]
  },
  {
   "cell_type": "code",
   "execution_count": 163,
   "id": "ea309eb5-d754-436d-af28-4753a96c262d",
   "metadata": {},
   "outputs": [
    {
     "name": "stdout",
     "output_type": "stream",
     "text": [
      "(210, 7)\n",
      "(210,)\n"
     ]
    }
   ],
   "source": [
    "print(X_train.shape)\n",
    "print(Y_train.shape)\n"
   ]
  },
  {
   "cell_type": "code",
   "execution_count": 232,
   "id": "bc3ea492-42ad-421b-9771-010d43c5111b",
   "metadata": {},
   "outputs": [
    {
     "data": {
      "text/plain": [
       "0.7111111111111111"
      ]
     },
     "execution_count": 232,
     "metadata": {},
     "output_type": "execute_result"
    }
   ],
   "source": [
    "#Find the prediction of the Using Decision tree \n",
    "\n",
    "from sklearn import tree\n",
    "\n",
    "df_clf = tree.DecisionTreeClassifier(max_depth=5)\n",
    "df_clf.fit(X_train,Y_train)\n",
    "\n",
    "df_clf.score(X_test,Y_test)\n",
    "\n",
    "y_pred = df_clf.predict(X_test)\n",
    "\n",
    "df_clf.score(X_test,Y_test)"
   ]
  },
  {
   "cell_type": "code",
   "execution_count": 234,
   "id": "ca1475e6-518b-4765-bd50-e60e2cdf5f06",
   "metadata": {},
   "outputs": [
    {
     "data": {
      "text/plain": [
       "array([1, 1, 1, 1, 2, 1, 1, 1, 1, 2, 1, 2, 1, 1, 2, 1, 1, 1, 1, 2, 2, 2,\n",
       "       1, 2, 2, 1, 1, 2, 2, 1, 1, 2, 1, 1, 1, 1, 2, 2, 2, 1, 2, 1, 2, 1,\n",
       "       1, 1, 2, 2, 2, 1, 1, 1, 1, 2, 1, 2, 1, 1, 1, 2, 1, 1, 1, 1, 1, 2,\n",
       "       1, 1, 1, 1, 2, 1, 1, 1, 2, 1, 1, 1, 1, 1, 1, 2, 2, 2, 2, 2, 1, 2,\n",
       "       1, 1], dtype=int64)"
      ]
     },
     "execution_count": 234,
     "metadata": {},
     "output_type": "execute_result"
    }
   ],
   "source": [
    "y_pred"
   ]
  },
  {
   "cell_type": "code",
   "execution_count": 236,
   "id": "f7e4219e-005c-487f-8e91-0a2b5ef713ce",
   "metadata": {},
   "outputs": [
    {
     "data": {
      "text/plain": [
       "array([[41,  9],\n",
       "       [17, 23]], dtype=int64)"
      ]
     },
     "execution_count": 236,
     "metadata": {},
     "output_type": "execute_result"
    }
   ],
   "source": [
    "#Construct the confusion matrix\n",
    "\n",
    "from sklearn.metrics import confusion_matrix\n",
    "\n",
    "confusion_matrix(Y_test,y_pred)\n"
   ]
  },
  {
   "cell_type": "code",
   "execution_count": null,
   "id": "398707f2-7d6e-40af-84ac-21e954a51b7d",
   "metadata": {},
   "outputs": [],
   "source": []
  }
 ],
 "metadata": {
  "kernelspec": {
   "display_name": "Python 3 (ipykernel)",
   "language": "python",
   "name": "python3"
  },
  "language_info": {
   "codemirror_mode": {
    "name": "ipython",
    "version": 3
   },
   "file_extension": ".py",
   "mimetype": "text/x-python",
   "name": "python",
   "nbconvert_exporter": "python",
   "pygments_lexer": "ipython3",
   "version": "3.12.4"
  }
 },
 "nbformat": 4,
 "nbformat_minor": 5
}
